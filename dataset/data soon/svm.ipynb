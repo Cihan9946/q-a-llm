{
  "cells": [
    {
      "cell_type": "code",
      "execution_count": null,
      "metadata": {
        "colab": {
          "base_uri": "https://localhost:8080/"
        },
        "id": "U4XfKHI7KI5p",
        "outputId": "3a3cf9b0-d31e-443e-9672-ae0e8f9a85fe"
      },
      "outputs": [
        {
          "name": "stdout",
          "output_type": "stream",
          "text": [
            "Mounted at /content/drive\n"
          ]
        }
      ],
      "source": [
        "from google.colab import drive\n",
        "drive.mount('/content/drive')"
      ]
    },
    {
      "cell_type": "code",
      "execution_count": null,
      "metadata": {
        "colab": {
          "base_uri": "https://localhost:8080/"
        },
        "id": "joC0LcEcKctj",
        "outputId": "3d5b4c5a-741c-47b5-929f-97720acf28ac"
      },
      "outputs": [
        {
          "name": "stdout",
          "output_type": "stream",
          "text": [
            "Requirement already satisfied: pandas in /usr/local/lib/python3.12/dist-packages (2.2.2)\n",
            "Requirement already satisfied: scikit-learn in /usr/local/lib/python3.12/dist-packages (1.6.1)\n",
            "Requirement already satisfied: seaborn in /usr/local/lib/python3.12/dist-packages (0.13.2)\n",
            "Requirement already satisfied: matplotlib in /usr/local/lib/python3.12/dist-packages (3.10.0)\n",
            "Requirement already satisfied: numpy>=1.26.0 in /usr/local/lib/python3.12/dist-packages (from pandas) (2.0.2)\n",
            "Requirement already satisfied: python-dateutil>=2.8.2 in /usr/local/lib/python3.12/dist-packages (from pandas) (2.9.0.post0)\n",
            "Requirement already satisfied: pytz>=2020.1 in /usr/local/lib/python3.12/dist-packages (from pandas) (2025.2)\n",
            "Requirement already satisfied: tzdata>=2022.7 in /usr/local/lib/python3.12/dist-packages (from pandas) (2025.2)\n",
            "Requirement already satisfied: scipy>=1.6.0 in /usr/local/lib/python3.12/dist-packages (from scikit-learn) (1.16.1)\n",
            "Requirement already satisfied: joblib>=1.2.0 in /usr/local/lib/python3.12/dist-packages (from scikit-learn) (1.5.1)\n",
            "Requirement already satisfied: threadpoolctl>=3.1.0 in /usr/local/lib/python3.12/dist-packages (from scikit-learn) (3.6.0)\n",
            "Requirement already satisfied: contourpy>=1.0.1 in /usr/local/lib/python3.12/dist-packages (from matplotlib) (1.3.3)\n",
            "Requirement already satisfied: cycler>=0.10 in /usr/local/lib/python3.12/dist-packages (from matplotlib) (0.12.1)\n",
            "Requirement already satisfied: fonttools>=4.22.0 in /usr/local/lib/python3.12/dist-packages (from matplotlib) (4.59.1)\n",
            "Requirement already satisfied: kiwisolver>=1.3.1 in /usr/local/lib/python3.12/dist-packages (from matplotlib) (1.4.9)\n",
            "Requirement already satisfied: packaging>=20.0 in /usr/local/lib/python3.12/dist-packages (from matplotlib) (25.0)\n",
            "Requirement already satisfied: pillow>=8 in /usr/local/lib/python3.12/dist-packages (from matplotlib) (11.3.0)\n",
            "Requirement already satisfied: pyparsing>=2.3.1 in /usr/local/lib/python3.12/dist-packages (from matplotlib) (3.2.3)\n",
            "Requirement already satisfied: six>=1.5 in /usr/local/lib/python3.12/dist-packages (from python-dateutil>=2.8.2->pandas) (1.17.0)\n"
          ]
        }
      ],
      "source": [
        "!pip install pandas scikit-learn seaborn matplotlib\n"
      ]
    },
    {
      "cell_type": "code",
      "execution_count": null,
      "metadata": {
        "colab": {
          "base_uri": "https://localhost:8080/",
          "height": 848
        },
        "id": "vCTp06pxG8dR",
        "outputId": "84bceb99-e5de-44fc-fbbd-9668088c485f"
      },
      "outputs": [
        {
          "name": "stdout",
          "output_type": "stream",
          "text": [
            "🔎 Veri kümesi boyutu: (4937, 2)\n",
            "label\n",
            "0    2638\n",
            "1    2299\n",
            "Name: count, dtype: int64\n",
            "\n",
            "📊 Accuracy: 0.9949392712550608\n",
            "\n",
            "📊 Classification Report:\n",
            "               precision    recall  f1-score   support\n",
            "\n",
            "           0     0.9962    0.9943    0.9953       528\n",
            "           1     0.9935    0.9957    0.9946       460\n",
            "\n",
            "    accuracy                         0.9949       988\n",
            "   macro avg     0.9948    0.9950    0.9949       988\n",
            "weighted avg     0.9949    0.9949    0.9949       988\n",
            "\n"
          ]
        },
        {
          "data": {
            "image/png": "[encoded data removed]",
            "text/plain": [
              "<Figure size 500x400 with 2 Axes>"
            ]
          },
          "metadata": {},
          "output_type": "display_data"
        },
        {
          "name": "stdout",
          "output_type": "stream",
          "text": [
            "👉 'ERP nedir?' --> Tahmin: 0\n",
            "👉 'Hava durumu nasıl?' --> Tahmin: 1\n",
            "👉 'Mizan raporu nasıl hazırlanır?' --> Tahmin: 0\n",
            "👉 'Merhaba nasılsın?' --> Tahmin: 1\n",
            "\n",
            "✅ Model ve vectorizer kaydedildi: /content/drive/MyDrive/new-fine_tuned_erp_svm\n"
          ]
        }
      ],
      "source": [
        "import pandas as pd\n",
        "from sklearn.model_selection import train_test_split\n",
        "from sklearn.feature_extraction.text import TfidfVectorizer\n",
        "from sklearn.svm import LinearSVC\n",
        "from sklearn.metrics import classification_report, confusion_matrix, accuracy_score\n",
        "import seaborn as sns\n",
        "import matplotlib.pyplot as plt\n",
        "import pickle\n",
        "import os\n",
        "\n",
        "# ----------------------\n",
        "# 1. Veri Yükleme\n",
        "# ----------------------\n",
        "df = pd.read_json(\"/content/classifications_data (1).json\")\n",
        "\n",
        "print(\"🔎 Veri kümesi boyutu:\", df.shape)\n",
        "print(df['label'].value_counts())\n",
        "\n",
        "# ----------------------\n",
        "# 2. Stratified Train/Test Split\n",
        "# ----------------------\n",
        "X_train, X_test, y_train, y_test = train_test_split(\n",
        "    df[\"text\"],\n",
        "    df[\"label\"],\n",
        "    test_size=0.2,\n",
        "    stratify=df[\"label\"],\n",
        "    random_state=42\n",
        ")\n",
        "\n",
        "# ----------------------\n",
        "# 3. TF-IDF Vectorizer\n",
        "# ----------------------\n",
        "vectorizer = TfidfVectorizer(\n",
        "    ngram_range=(1,2),   # unigram + bigram\n",
        "    max_features=5000,   # en sık geçen 5000 özelliği al\n",
        "    stop_words=None\n",
        ")\n",
        "X_train_tfidf = vectorizer.fit_transform(X_train)\n",
        "X_test_tfidf = vectorizer.transform(X_test)\n",
        "\n",
        "# ----------------------\n",
        "# 4. SVM Classifier\n",
        "# ----------------------\n",
        "svm_clf = LinearSVC(class_weight=\"balanced\", random_state=42)\n",
        "svm_clf.fit(X_train_tfidf, y_train)\n",
        "\n",
        "# ----------------------\n",
        "# 5. Tahmin ve Skorlar\n",
        "# ----------------------\n",
        "y_pred = svm_clf.predict(X_test_tfidf)\n",
        "\n",
        "print(\"\\n📊 Accuracy:\", accuracy_score(y_test, y_pred))\n",
        "print(\"\\n📊 Classification Report:\\n\", classification_report(y_test, y_pred, digits=4))\n",
        "\n",
        "# ----------------------\n",
        "# 6. Confusion Matrix\n",
        "# ----------------------\n",
        "cm = confusion_matrix(y_test, y_pred)\n",
        "plt.figure(figsize=(5,4))\n",
        "sns.heatmap(cm, annot=True, fmt=\"d\", cmap=\"Blues\",\n",
        "            xticklabels=[\"0: ERP\", \"1: Alakasız\"],\n",
        "            yticklabels=[\"0: ERP\", \"1: Alakasız\"])\n",
        "plt.xlabel(\"Predicted\")\n",
        "plt.ylabel(\"True\")\n",
        "plt.title(\"Confusion Matrix (SVM)\")\n",
        "plt.show()\n",
        "\n",
        "# ----------------------\n",
        "# 7. Örnek Tahmin\n",
        "# ----------------------\n",
        "test_sentences = [\n",
        "    \"ERP nedir?\",\n",
        "    \"Hava durumu nasıl?\",\n",
        "    \"Mizan raporu nasıl hazırlanır?\",\n",
        "    \"Merhaba nasılsın?\"\n",
        "]\n",
        "\n",
        "test_vec = vectorizer.transform(test_sentences)\n",
        "preds = svm_clf.predict(test_vec)\n",
        "for s, p in zip(test_sentences, preds):\n",
        "    print(f\"👉 '{s}' --> Tahmin: {p}\")\n",
        "\n",
        "# ----------------------\n",
        "# 8. Model Kaydetme\n",
        "# ----------------------\n",
        "save_path = \"/content/drive/MyDrive/new-fine_tuned_erp_svm\"\n",
        "os.makedirs(save_path, exist_ok=True)\n",
        "\n",
        "with open(os.path.join(save_path, \"svm_model.pkl\"), \"wb\") as f:\n",
        "    pickle.dump(svm_clf, f)\n",
        "\n",
        "with open(os.path.join(save_path, \"tfidf_vectorizer.pkl\"), \"wb\") as f:\n",
        "    pickle.dump(vectorizer, f)\n",
        "\n",
        "print(f\"\\n✅ Model ve vectorizer kaydedildi: {save_path}\")\n"
      ]
    },
    {
      "cell_type": "code",
      "execution_count": null,
      "metadata": {
        "colab": {
          "base_uri": "https://localhost:8080/"
        },
        "id": "Cd7ZWHeGLCtC",
        "outputId": "a0f03401-4819-43a1-d4b4-cdf31d4b4a02"
      },
      "outputs": [
        {
          "name": "stdout",
          "output_type": "stream",
          "text": [
            "                                                 text  label  predicted\n",
            "0   Mizan nedir ve neden hazırlanır? İşletmem döne...      0          0\n",
            "1   Mizan nasıl hazırlanır? Yevmiye defterinden mi...      0          0\n",
            "2   Mizan hangi türlerde düzenlenir? Şirketim ay s...      0          0\n",
            "3   Mizanda hata nasıl anlaşılır? Mizan tablosunu ...      0          0\n",
            "4   ERP’de mizan raporu nasıl alınır? ERP sistemin...      0          0\n",
            "5   Mizan bilanço hazırlığında nasıl rol oynar? Bi...      0          0\n",
            "6   Denetimde mizan nasıl kullanılır? Bağımsız den...      0          0\n",
            "7   Mizan düzenlenmezse ne olur? Mizan tutmazsak h...      0          0\n",
            "8   Mizan yöneticilere nasıl fayda sağlar? Şirket ...      0          0\n",
            "9   Mizan ile envanter ilişkisi nedir? Envanter iş...      0          0\n",
            "10  Bakiye nedir ve nasıl tanımlanır? ERP raporlar...      0          0\n",
            "11  Cari hesaplarda bakiye nasıl kullanılır? Müşte...      0          0\n",
            "12  Kasa hesabında bakiye nasıl izlenir? Kasa hesa...      0          0\n",
            "13  Banka hesaplarında bakiye nasıl raporlanır? ER...      0          0\n",
            "14  Bakiye ile risk yönetimi arasındaki ilişki ned...      0          0\n",
            "15  Negatif bakiye ne anlama gelir? ERP’de stok ka...      0          0\n",
            "16  Bakiye kontrolü neden yapılır? Her ay bakiye k...      0          0\n",
            "17  Bakiye raporları denetimde nasıl kullanılır? D...      0          0\n",
            "18  Bakiye ile ödeme planı ilişkisi nedir? ERP’de ...      0          0\n",
            "19  Bakiye ile mahsup işlemleri nasıl ilişkilidir?...      0          0\n",
            "\n",
            "❌ Hatalı sınıflandırma sayısı: 7\n",
            "                                                   text  label  predicted\n",
            "1909  Kullanıcı tercihleri cihaz değişse bile hatırl...      0          1\n",
            "2497  Teleskop raporlarının Excel'e aktarımında sayı...      0          1\n",
            "2541  Varsayılan depo tanımlama Girdiğim belgelerde ...      0          1\n",
            "2630  Kuruluş yaparken ‘merkezle bağlantı kurulamadı...      0          1\n",
            "4320                Kariyer hedefleri nasıl belirlenir?      1          0\n",
            "4515                  Edebiyatta modernizm akımı nedir?      1          0\n",
            "4787  Kredi notunu yükseltmek için hangi adımlar atı...      1          0\n"
          ]
        }
      ],
      "source": [
        "import pandas as pd\n",
        "import pickle\n",
        "import os\n",
        "\n",
        "# ----------------------\n",
        "# 1. Model ve Vectorizer Yükleme\n",
        "# ----------------------\n",
        "save_path = \"/content/drive/MyDrive/new-fine_tuned_erp_svm\"\n",
        "\n",
        "with open(os.path.join(save_path, \"svm_model.pkl\"), \"rb\") as f:\n",
        "    svm_clf = pickle.load(f)\n",
        "\n",
        "with open(os.path.join(save_path, \"tfidf_vectorizer.pkl\"), \"rb\") as f:\n",
        "    vectorizer = pickle.load(f)\n",
        "\n",
        "# ----------------------\n",
        "# 2. Dataset Yükleme\n",
        "# ----------------------\n",
        "df = pd.read_json(\"/content/classifications_data (1).json\")\n",
        "\n",
        "# ----------------------\n",
        "# 3. Tahminleri Hesapla\n",
        "# ----------------------\n",
        "X_vec = vectorizer.transform(df[\"text\"])\n",
        "df[\"predicted\"] = svm_clf.predict(X_vec)\n",
        "\n",
        "# ----------------------\n",
        "# 4. Karşılaştırma\n",
        "# ----------------------\n",
        "# İlk 20 örneği kontrol için yazdıralım\n",
        "print(df.head(20)[[\"text\", \"label\", \"predicted\"]])\n",
        "\n",
        "# ----------------------\n",
        "# 5. Hatalı Tahminleri Göster\n",
        "# ----------------------\n",
        "errors = df[df[\"label\"] != df[\"predicted\"]]\n",
        "print(f\"\\n❌ Hatalı sınıflandırma sayısı: {len(errors)}\")\n",
        "print(errors.head(20)[[\"text\", \"label\", \"predicted\"]])  # ilk 20 hatayı yazdır\n"
      ]
    },
    {
      "cell_type": "code",
      "execution_count": null,
      "metadata": {
        "colab": {
          "base_uri": "https://localhost:8080/"
        },
        "id": "kAXLHDJiLhg4",
        "outputId": "e3fd96c5-4122-427f-a79f-23360efd46a8"
      },
      "outputs": [
        {
          "name": "stdout",
          "output_type": "stream",
          "text": [
            "👉 'cari nedir nasıl alınır' --> Tahmin: 1\n",
            "👉 'çek makbuzu üzerinde hangi bilgiler yer alır? Makbuzda hangi alanlar zorunludur?' --> Tahmin: 0\n",
            "👉 'Mizan kaydını indirebilirmiyim? ' --> Tahmin: 0\n",
            "👉 'Tahsilat fişi nedir nasıl alabilirim' --> Tahmin: 0\n",
            "👉 'Tediye nedir nasıl alınır?' --> Tahmin: 1\n",
            "👉 'ERP sisteminde yeni müşteri kartı nasıl tanımlanır?' --> Tahmin: 0\n",
            "👉 'Bakiye raporları yönetime hangi karar desteğini sağlar?' --> Tahmin: 0\n",
            "👉 'Muhasebe fişlerinde yapılan hatalar ERP’de nasıl düzeltilir?' --> Tahmin: 0\n",
            "👉 'ERP üzerinden toplu ödeme talimatı nasıl verilir?' --> Tahmin: 0\n",
            "👉 'Stok sayımı sonrası ERP’de hangi rapor güncellenir?' --> Tahmin: 0\n",
            "👉 'Gelir tablosu ile nakit akış tablosu arasında nasıl bir fark vardır?' --> Tahmin: 0\n",
            "👉 'ERP’de dekont numarası takibi hangi modülde yapılır?' --> Tahmin: 0\n",
            "👉 'Cari hesap mutabakat mektubu ERP’den nasıl hazırlanır?' --> Tahmin: 0\n",
            "👉 'ERP’de personel maaş ödemeleri hangi modülden takip edilir?' --> Tahmin: 0\n",
            "👉 'Kur farkı kayıtları ERP sistemine nasıl işlenir?' --> Tahmin: 0\n",
            "👉 'Mizan nasıl ' --> Tahmin: 0\n",
            "👉 'nasıl giriş yaparım ?' --> Tahmin: 0\n",
            "👉 'Yaz tatili için en çok tercih edilen şehirler hangileri?' --> Tahmin: 1\n",
            "👉 'Dün gece izlediğin film nasıldı?' --> Tahmin: 1\n",
            "👉 'Hangi futbolcu bu yıl transfer rekoru kırdı?' --> Tahmin: 0\n",
            "👉 'Kahvaltıda en sevilen yiyecekler nelerdir?' --> Tahmin: 1\n",
            "👉 'Tatilde deniz mi dağ mı tercih edersin?' --> Tahmin: 1\n",
            "👉 'Son zamanlarda en popüler mobil oyun hangisi?' --> Tahmin: 1\n",
            "👉 'Bugün dolar kuru ne kadar oldu?' --> Tahmin: 1\n",
            "👉 'İstanbul’da trafik yoğunluğu şu an nasıl?' --> Tahmin: 1\n",
            "👉 'En sevilen tatlı hangisidir?' --> Tahmin: 1\n"
          ]
        }
      ],
      "source": [
        "# ----------------------\n",
        "# 6. Ekstra 5 Soruluk Test\n",
        "# ----------------------\n",
        "extra_questions_20 = [\n",
        "    # ERP soruları (0 beklenir)\n",
        "    \"cari nedir nasıl alınır\",\n",
        "    \"çek makbuzu üzerinde hangi bilgiler yer alır? Makbuzda hangi alanlar zorunludur?\",\n",
        "    \"Mizan kaydını indirebilirmiyim? \",\n",
        "    \"Tahsilat fişi nedir nasıl alabilirim\",\n",
        "    \"Tediye nedir nasıl alınır?\",\n",
        "    \"ERP sisteminde yeni müşteri kartı nasıl tanımlanır?\",\n",
        "    \"Bakiye raporları yönetime hangi karar desteğini sağlar?\",\n",
        "    \"Muhasebe fişlerinde yapılan hatalar ERP’de nasıl düzeltilir?\",\n",
        "    \"ERP üzerinden toplu ödeme talimatı nasıl verilir?\",\n",
        "    \"Stok sayımı sonrası ERP’de hangi rapor güncellenir?\",\n",
        "    \"Gelir tablosu ile nakit akış tablosu arasında nasıl bir fark vardır?\",\n",
        "    \"ERP’de dekont numarası takibi hangi modülde yapılır?\",\n",
        "    \"Cari hesap mutabakat mektubu ERP’den nasıl hazırlanır?\",\n",
        "    \"ERP’de personel maaş ödemeleri hangi modülden takip edilir?\",\n",
        "    \"Kur farkı kayıtları ERP sistemine nasıl işlenir?\",\n",
        "    \"Mizan nasıl \",\n",
        "\n",
        "    # Alakasız sorular (1 beklenir)\n",
        "    \"nasıl giriş yaparım ?\",\n",
        "    \"Yaz tatili için en çok tercih edilen şehirler hangileri?\",\n",
        "    \"Dün gece izlediğin film nasıldı?\",\n",
        "    \"Hangi futbolcu bu yıl transfer rekoru kırdı?\",\n",
        "    \"Kahvaltıda en sevilen yiyecekler nelerdir?\",\n",
        "    \"Tatilde deniz mi dağ mı tercih edersin?\",\n",
        "    \"Son zamanlarda en popüler mobil oyun hangisi?\",\n",
        "    \"Bugün dolar kuru ne kadar oldu?\",\n",
        "    \"İstanbul’da trafik yoğunluğu şu an nasıl?\",\n",
        "    \"En sevilen tatlı hangisidir?\"\n",
        "]\n",
        "\n",
        "extra_vec = vectorizer.transform(extra_questions_20)\n",
        "extra_preds = svm_clf.predict(extra_vec)\n",
        "\n",
        "for q, p in zip(extra_questions_20, extra_preds):\n",
        "    print(f\"👉 '{q}' --> Tahmin: {p}\")\n"
      ]
    }
  ],
  "metadata": {
    "accelerator": "GPU",
    "colab": {
      "gpuType": "T4",
      "machine_shape": "hm",
      "provenance": []
    },
    "kernelspec": {
      "display_name": "Python 3",
      "name": "python3"
    },
    "language_info": {
      "name": "python"
    }
  },
  "nbformat": 4,
  "nbformat_minor": 0
}
